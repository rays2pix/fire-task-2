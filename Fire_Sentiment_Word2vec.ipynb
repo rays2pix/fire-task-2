{
 "cells": [
  {
   "cell_type": "markdown",
   "metadata": {},
   "source": [
    "## Word2vec embedding using gensim\n",
    "\n",
    "We learn an embedding using gensim's word2vec model and use it for sentiment classification."
   ]
  },
  {
   "cell_type": "code",
   "execution_count": 9,
   "metadata": {},
   "outputs": [
    {
     "data": {
      "text/html": [
       "<div>\n",
       "<style scoped>\n",
       "    .dataframe tbody tr th:only-of-type {\n",
       "        vertical-align: middle;\n",
       "    }\n",
       "\n",
       "    .dataframe tbody tr th {\n",
       "        vertical-align: top;\n",
       "    }\n",
       "\n",
       "    .dataframe thead th {\n",
       "        text-align: right;\n",
       "    }\n",
       "</style>\n",
       "<table border=\"1\" class=\"dataframe\">\n",
       "  <thead>\n",
       "    <tr style=\"text-align: right;\">\n",
       "      <th></th>\n",
       "      <th>text</th>\n",
       "      <th>category</th>\n",
       "    </tr>\n",
       "  </thead>\n",
       "  <tbody>\n",
       "    <tr>\n",
       "      <th>0</th>\n",
       "      <td>Vani bhojam fans hit like solli 500 like Vangi...</td>\n",
       "      <td>unknown_state</td>\n",
       "    </tr>\n",
       "    <tr>\n",
       "      <th>1</th>\n",
       "      <td>I love you ajith very I like</td>\n",
       "      <td>Positive</td>\n",
       "    </tr>\n",
       "    <tr>\n",
       "      <th>2</th>\n",
       "      <td>ennaya trailer Ku mudi Ellam nikkudhu... Vera ...</td>\n",
       "      <td>Positive</td>\n",
       "    </tr>\n",
       "    <tr>\n",
       "      <th>3</th>\n",
       "      <td>Vijay Annaa  Ur Maassssss Therrrrriiiiii</td>\n",
       "      <td>Positive</td>\n",
       "    </tr>\n",
       "    <tr>\n",
       "      <th>4</th>\n",
       "      <td>நம்ப நடே நாசாமா தான் போச்சி</td>\n",
       "      <td>Negative</td>\n",
       "    </tr>\n",
       "  </tbody>\n",
       "</table>\n",
       "</div>"
      ],
      "text/plain": [
       "                                                text       category\n",
       "0  Vani bhojam fans hit like solli 500 like Vangi...  unknown_state\n",
       "1                       I love you ajith very I like       Positive\n",
       "2  ennaya trailer Ku mudi Ellam nikkudhu... Vera ...       Positive\n",
       "3           Vijay Annaa  Ur Maassssss Therrrrriiiiii       Positive\n",
       "4                        நம்ப நடே நாசாமா தான் போச்சி       Negative"
      ]
     },
     "execution_count": 9,
     "metadata": {},
     "output_type": "execute_result"
    }
   ],
   "source": [
    "import pandas as pd\n",
    "import numpy as np\n",
    "data_file = \"/home/deepak/data/fire/tamil_sentiment_full_train.tsv\"\n",
    "\n",
    "train_df = pd.read_csv(data_file,sep='\\t')\n",
    "\n",
    "train_df.head()"
   ]
  },
  {
   "cell_type": "markdown",
   "metadata": {},
   "source": [
    "## Learn embedding"
   ]
  },
  {
   "cell_type": "code",
   "execution_count": 10,
   "metadata": {},
   "outputs": [],
   "source": [
    "documents = train_df.text.to_list()\n",
    "\n",
    "from gensim.test.utils import datapath\n",
    "from gensim import utils\n",
    "\n",
    "class MyCorpus:\n",
    "    \"\"\"An iterator that yields sentences (lists of str).\"\"\"\n",
    "\n",
    "    def __iter__(self):\n",
    "        #corpus_path = datapath('lee_background.cor')\n",
    "        for document in documents:\n",
    "            # assume there's one document per line, tokens separated by whitespace\n",
    "            yield utils.simple_preprocess(document)\n",
    "\n",
    "import gensim.models\n",
    "\n",
    "sentences = MyCorpus()\n",
    "model = gensim.models.Word2Vec(sentences=sentences)"
   ]
  },
  {
   "cell_type": "code",
   "execution_count": 11,
   "metadata": {},
   "outputs": [
    {
     "data": {
      "text/plain": [
       "[('full', 0.9164316058158875),\n",
       " ('bigil', 0.9144452810287476),\n",
       " ('diwali', 0.911159098148346),\n",
       " ('kaithi', 0.9102253913879395),\n",
       " ('asuran', 0.9063699245452881),\n",
       " ('mersal', 0.9054629802703857),\n",
       " ('varum', 0.8990466594696045),\n",
       " ('pathutu', 0.8990169167518616),\n",
       " ('nkp', 0.8978241086006165),\n",
       " ('kandipa', 0.89558345079422)]"
      ]
     },
     "execution_count": 11,
     "metadata": {},
     "output_type": "execute_result"
    }
   ],
   "source": [
    "## words that are similar\n",
    "model.wv.most_similar('trailer')"
   ]
  },
  {
   "cell_type": "code",
   "execution_count": 12,
   "metadata": {},
   "outputs": [
    {
     "data": {
      "text/plain": [
       "Positive          20069\n",
       "unknown_state      5628\n",
       "Negative           4271\n",
       "Mixed_feelings     4020\n",
       "not-Tamil          1667\n",
       "Positive              1\n",
       "Name: category, dtype: int64"
      ]
     },
     "execution_count": 12,
     "metadata": {},
     "output_type": "execute_result"
    }
   ],
   "source": [
    "train_df['category'].value_counts()"
   ]
  },
  {
   "cell_type": "code",
   "execution_count": 39,
   "metadata": {},
   "outputs": [],
   "source": [
    "labels2number = {\"Positive\":0, \"unknown_state\":1,\"Negative\":2,\"Mixed_feelings\":3,\"not-Tamil\":4}\n",
    "numbers2label = {0:\"Positive\",1:\"unknown_state\",2:\"Negative\",3:\"Mixed-feelings\",4:\"not-tamil\"}"
   ]
  },
  {
   "cell_type": "code",
   "execution_count": 14,
   "metadata": {},
   "outputs": [],
   "source": [
    "def encode_labels(row):\n",
    "    try:\n",
    "        label = labels2number[row['category']]\n",
    "    except:\n",
    "        label = 5\n",
    "    return label\n",
    "\n",
    "train_df['label']= train_df.apply(encode_labels,axis=1)"
   ]
  },
  {
   "cell_type": "code",
   "execution_count": 15,
   "metadata": {},
   "outputs": [
    {
     "data": {
      "text/plain": [
       "0    20069\n",
       "1     5628\n",
       "2     4271\n",
       "3     4020\n",
       "4     1667\n",
       "5        1\n",
       "Name: label, dtype: int64"
      ]
     },
     "execution_count": 15,
     "metadata": {},
     "output_type": "execute_result"
    }
   ],
   "source": [
    "train_df.label.value_counts()"
   ]
  },
  {
   "cell_type": "code",
   "execution_count": 16,
   "metadata": {},
   "outputs": [],
   "source": [
    "texts= train_df.text\n",
    "labels = train_df.label"
   ]
  },
  {
   "cell_type": "code",
   "execution_count": 17,
   "metadata": {},
   "outputs": [
    {
     "data": {
      "text/plain": [
       "'Vijay Annaa  Ur Maassssss Therrrrriiiiii'"
      ]
     },
     "execution_count": 17,
     "metadata": {},
     "output_type": "execute_result"
    }
   ],
   "source": [
    "import numpy as np\n",
    "text = texts[3]\n",
    "text"
   ]
  },
  {
   "cell_type": "code",
   "execution_count": 18,
   "metadata": {},
   "outputs": [],
   "source": [
    "\n",
    "embedding_dim = 100\n",
    "def get_embedding(text):\n",
    "    '''Given a sentence compute an embedding by computing average of all word\n",
    "    embedding.'''\n",
    "    embedding = np.zeros(embedding_dim)\n",
    "    embedding_list = []\n",
    "    for word in text.split(' '):\n",
    "        word = word.lower()\n",
    "        #print(word)\n",
    "        try:\n",
    "            wv_embedding = model.wv[word]\n",
    "            embedding_list.append(wv_embedding)\n",
    "        except:\n",
    "            pass\n",
    "    if len(embedding_list):   \n",
    "        embedding = np.mean(embedding_list,axis=0)\n",
    "   \n",
    "    return embedding"
   ]
  },
  {
   "cell_type": "code",
   "execution_count": 19,
   "metadata": {},
   "outputs": [],
   "source": [
    "text_embedding = np.asarray([get_embedding(text) for text in texts])"
   ]
  },
  {
   "cell_type": "code",
   "execution_count": 20,
   "metadata": {},
   "outputs": [
    {
     "data": {
      "text/plain": [
       "(35656, 100)"
      ]
     },
     "execution_count": 20,
     "metadata": {},
     "output_type": "execute_result"
    }
   ],
   "source": [
    "text_embedding.shape"
   ]
  },
  {
   "cell_type": "code",
   "execution_count": 21,
   "metadata": {},
   "outputs": [],
   "source": [
    "from keras.layers import  Input,Dense\n",
    "from keras import Model,Sequential\n",
    "import keras"
   ]
  },
  {
   "cell_type": "code",
   "execution_count": 22,
   "metadata": {},
   "outputs": [],
   "source": [
    "classifier = Sequential()\n",
    "classifier.add(Input(shape=(100,)))\n",
    "classifier.add(Dense(32,  activation = 'relu'))\n",
    "classifier.add(Dense(32, activation = 'relu'))\n",
    "classifier.add(Dense(6, activation = 'softmax'))\n"
   ]
  },
  {
   "cell_type": "code",
   "execution_count": 23,
   "metadata": {},
   "outputs": [
    {
     "data": {
      "text/plain": [
       "(35656, 6)"
      ]
     },
     "execution_count": 23,
     "metadata": {},
     "output_type": "execute_result"
    }
   ],
   "source": [
    "labels_ = keras.utils.to_categorical(labels)\n",
    "labels_.shape"
   ]
  },
  {
   "cell_type": "code",
   "execution_count": 24,
   "metadata": {},
   "outputs": [],
   "source": [
    "classifier.compile(loss=\"categorical_crossentropy\", optimizer=\"adam\", metrics=[\"accuracy\"])"
   ]
  },
  {
   "cell_type": "code",
   "execution_count": 25,
   "metadata": {},
   "outputs": [
    {
     "name": "stdout",
     "output_type": "stream",
     "text": [
      "Model: \"sequential\"\n",
      "_________________________________________________________________\n",
      "Layer (type)                 Output Shape              Param #   \n",
      "=================================================================\n",
      "dense (Dense)                (None, 32)                3232      \n",
      "_________________________________________________________________\n",
      "dense_1 (Dense)              (None, 32)                1056      \n",
      "_________________________________________________________________\n",
      "dense_2 (Dense)              (None, 6)                 198       \n",
      "=================================================================\n",
      "Total params: 4,486\n",
      "Trainable params: 4,486\n",
      "Non-trainable params: 0\n",
      "_________________________________________________________________\n"
     ]
    }
   ],
   "source": [
    "classifier.summary()"
   ]
  },
  {
   "cell_type": "code",
   "execution_count": 26,
   "metadata": {},
   "outputs": [
    {
     "name": "stdout",
     "output_type": "stream",
     "text": [
      "Epoch 1/10\n",
      "1115/1115 [==============================] - 1s 810us/step - loss: 1.2148 - accuracy: 0.5629\n",
      "Epoch 2/10\n",
      "1115/1115 [==============================] - 1s 799us/step - loss: 1.1132 - accuracy: 0.5793\n",
      "Epoch 3/10\n",
      "1115/1115 [==============================] - 1s 813us/step - loss: 1.0926 - accuracy: 0.5879\n",
      "Epoch 4/10\n",
      "1115/1115 [==============================] - 1s 786us/step - loss: 1.0875 - accuracy: 0.5907\n",
      "Epoch 5/10\n",
      "1115/1115 [==============================] - 1s 761us/step - loss: 1.0883 - accuracy: 0.5905\n",
      "Epoch 6/10\n",
      "1115/1115 [==============================] - 1s 768us/step - loss: 1.0821 - accuracy: 0.5913\n",
      "Epoch 7/10\n",
      "1115/1115 [==============================] - 1s 766us/step - loss: 1.0728 - accuracy: 0.5951\n",
      "Epoch 8/10\n",
      "1115/1115 [==============================] - 1s 765us/step - loss: 1.0721 - accuracy: 0.5983\n",
      "Epoch 9/10\n",
      "1115/1115 [==============================] - 1s 794us/step - loss: 1.0759 - accuracy: 0.5945\n",
      "Epoch 10/10\n",
      "1115/1115 [==============================] - 1s 789us/step - loss: 1.0725 - accuracy: 0.5928\n"
     ]
    },
    {
     "data": {
      "text/plain": [
       "<tensorflow.python.keras.callbacks.History at 0x7f02a0380bd0>"
      ]
     },
     "execution_count": 26,
     "metadata": {},
     "output_type": "execute_result"
    }
   ],
   "source": [
    "classifier.fit(text_embedding,labels_,epochs=10)"
   ]
  },
  {
   "cell_type": "code",
   "execution_count": 30,
   "metadata": {},
   "outputs": [
    {
     "data": {
      "text/html": [
       "<div>\n",
       "<style scoped>\n",
       "    .dataframe tbody tr th:only-of-type {\n",
       "        vertical-align: middle;\n",
       "    }\n",
       "\n",
       "    .dataframe tbody tr th {\n",
       "        vertical-align: top;\n",
       "    }\n",
       "\n",
       "    .dataframe thead th {\n",
       "        text-align: right;\n",
       "    }\n",
       "</style>\n",
       "<table border=\"1\" class=\"dataframe\">\n",
       "  <thead>\n",
       "    <tr style=\"text-align: right;\">\n",
       "      <th></th>\n",
       "      <th>text</th>\n",
       "      <th>category</th>\n",
       "    </tr>\n",
       "  </thead>\n",
       "  <tbody>\n",
       "    <tr>\n",
       "      <th>0</th>\n",
       "      <td>@0:40 songsuperb..kamallllla..  I'm waiting fo...</td>\n",
       "      <td>unknown_state</td>\n",
       "    </tr>\n",
       "    <tr>\n",
       "      <th>1</th>\n",
       "      <td>கணத்ததோர் அகமுடையார் சார்பாக  படம் வெற்றி அடைய...</td>\n",
       "      <td>Positive</td>\n",
       "    </tr>\n",
       "    <tr>\n",
       "      <th>2</th>\n",
       "      <td>Thalavia neenga veera level boss and neega tha...</td>\n",
       "      <td>Positive</td>\n",
       "    </tr>\n",
       "    <tr>\n",
       "      <th>3</th>\n",
       "      <td>Oru padam patha fell.vera level music</td>\n",
       "      <td>Positive</td>\n",
       "    </tr>\n",
       "    <tr>\n",
       "      <th>4</th>\n",
       "      <td>Hairstyle than mattama iruku. Adhu mattum math...</td>\n",
       "      <td>unknown_state</td>\n",
       "    </tr>\n",
       "  </tbody>\n",
       "</table>\n",
       "</div>"
      ],
      "text/plain": [
       "                                                text       category\n",
       "0  @0:40 songsuperb..kamallllla..  I'm waiting fo...  unknown_state\n",
       "1  கணத்ததோர் அகமுடையார் சார்பாக  படம் வெற்றி அடைய...       Positive\n",
       "2  Thalavia neenga veera level boss and neega tha...       Positive\n",
       "3              Oru padam patha fell.vera level music       Positive\n",
       "4  Hairstyle than mattama iruku. Adhu mattum math...  unknown_state"
      ]
     },
     "execution_count": 30,
     "metadata": {},
     "output_type": "execute_result"
    }
   ],
   "source": [
    "data_file = \"/home/deepak/data/fire/tamil_sentiment_full_dev.tsv\"\n",
    "\n",
    "valid_df = pd.read_csv(data_file,sep='\\t')\n",
    "\n",
    "valid_df.head()"
   ]
  },
  {
   "cell_type": "code",
   "execution_count": 34,
   "metadata": {},
   "outputs": [],
   "source": [
    "valid_df['label']= valid_df.apply(encode_labels,axis=1)\n",
    "\n",
    "valid_inputs = valid_df.text.to_list()\n",
    "\n",
    "valid_embedding = np.asarray([get_embedding(text) for text in valid_inputs])\n",
    "\n",
    "y_pred = classifier.predict(valid_embedding)\n",
    "\n",
    "y_true = valid_df.label"
   ]
  },
  {
   "cell_type": "code",
   "execution_count": 35,
   "metadata": {},
   "outputs": [],
   "source": [
    "from sklearn.metrics import classification_report"
   ]
  },
  {
   "cell_type": "code",
   "execution_count": 36,
   "metadata": {},
   "outputs": [
    {
     "name": "stdout",
     "output_type": "stream",
     "text": [
      "                precision    recall  f1-score   support\n",
      "\n",
      "      Positive       0.61      0.97      0.75      2257\n",
      " unknown state       0.59      0.12      0.20       611\n",
      "      negative       0.45      0.14      0.21       480\n",
      "Mixed feelings       0.00      0.00      0.00       438\n",
      "     not-tamil       0.73      0.38      0.50       176\n",
      "\n",
      "      accuracy                           0.60      3962\n",
      "     macro avg       0.47      0.32      0.33      3962\n",
      "  weighted avg       0.52      0.60      0.50      3962\n",
      "\n"
     ]
    },
    {
     "name": "stderr",
     "output_type": "stream",
     "text": [
      "/home/deepak/anaconda3/lib/python3.7/site-packages/sklearn/metrics/_classification.py:1245: UndefinedMetricWarning: Precision and F-score are ill-defined and being set to 0.0 in labels with no predicted samples. Use `zero_division` parameter to control this behavior.\n",
      "  _warn_prf(average, modifier, msg_start, len(result))\n",
      "/home/deepak/anaconda3/lib/python3.7/site-packages/sklearn/metrics/_classification.py:1245: UndefinedMetricWarning: Precision and F-score are ill-defined and being set to 0.0 in labels with no predicted samples. Use `zero_division` parameter to control this behavior.\n",
      "  _warn_prf(average, modifier, msg_start, len(result))\n",
      "/home/deepak/anaconda3/lib/python3.7/site-packages/sklearn/metrics/_classification.py:1245: UndefinedMetricWarning: Precision and F-score are ill-defined and being set to 0.0 in labels with no predicted samples. Use `zero_division` parameter to control this behavior.\n",
      "  _warn_prf(average, modifier, msg_start, len(result))\n"
     ]
    }
   ],
   "source": [
    "y_predicted = np.argmax(y_pred,axis=1)\n",
    "labels=[\"Positive\",\"unknown state\",\"negative\",\"Mixed feelings\",\"not-tamil\"]\n",
    "print(classification_report(y_true,y_predicted,target_names=labels))"
   ]
  },
  {
   "cell_type": "code",
   "execution_count": 38,
   "metadata": {},
   "outputs": [
    {
     "data": {
      "text/html": [
       "<div>\n",
       "<style scoped>\n",
       "    .dataframe tbody tr th:only-of-type {\n",
       "        vertical-align: middle;\n",
       "    }\n",
       "\n",
       "    .dataframe tbody tr th {\n",
       "        vertical-align: top;\n",
       "    }\n",
       "\n",
       "    .dataframe thead th {\n",
       "        text-align: right;\n",
       "    }\n",
       "</style>\n",
       "<table border=\"1\" class=\"dataframe\">\n",
       "  <thead>\n",
       "    <tr style=\"text-align: right;\">\n",
       "      <th></th>\n",
       "      <th>id</th>\n",
       "      <th>text</th>\n",
       "    </tr>\n",
       "  </thead>\n",
       "  <tbody>\n",
       "    <tr>\n",
       "      <th>0</th>\n",
       "      <td>Tam_1</td>\n",
       "      <td>வீர செங்குந்தர் சார்பாக இந்த திரைப்படம் வெற்றி...</td>\n",
       "    </tr>\n",
       "    <tr>\n",
       "      <th>1</th>\n",
       "      <td>Tam_2</td>\n",
       "      <td>Teruk ah irukku .... mokke movie .. waste of time</td>\n",
       "    </tr>\n",
       "    <tr>\n",
       "      <th>2</th>\n",
       "      <td>Tam_3</td>\n",
       "      <td>manitha samuthaayam amaipil irunthu intha pada...</td>\n",
       "    </tr>\n",
       "    <tr>\n",
       "      <th>3</th>\n",
       "      <td>Tam_4</td>\n",
       "      <td>JJ mam we miss u</td>\n",
       "    </tr>\n",
       "    <tr>\n",
       "      <th>4</th>\n",
       "      <td>Tam_5</td>\n",
       "      <td>Subtitle me traller dekhne wale like karo</td>\n",
       "    </tr>\n",
       "    <tr>\n",
       "      <th>...</th>\n",
       "      <td>...</td>\n",
       "      <td>...</td>\n",
       "    </tr>\n",
       "    <tr>\n",
       "      <th>4397</th>\n",
       "      <td>Tam_4398</td>\n",
       "      <td>Ithukum dislike potta kammanattti koovaingalam...</td>\n",
       "    </tr>\n",
       "    <tr>\n",
       "      <th>4398</th>\n",
       "      <td>Tam_4399</td>\n",
       "      <td>Suyama Sinthikiravan than super Hero Seama dia...</td>\n",
       "    </tr>\n",
       "    <tr>\n",
       "      <th>4399</th>\n",
       "      <td>Tam_4400</td>\n",
       "      <td>Super thalaiva.... Nee mass dha eppavume</td>\n",
       "    </tr>\n",
       "    <tr>\n",
       "      <th>4400</th>\n",
       "      <td>Tam_4401</td>\n",
       "      <td>பெண்ணை அடிமையாக்க நினைக்கும் இந்த படம் தோல்வித...</td>\n",
       "    </tr>\n",
       "    <tr>\n",
       "      <th>4401</th>\n",
       "      <td>Tam_4402</td>\n",
       "      <td>Semma thalaiva alu athikama akirukum enimale e...</td>\n",
       "    </tr>\n",
       "  </tbody>\n",
       "</table>\n",
       "<p>4402 rows × 2 columns</p>\n",
       "</div>"
      ],
      "text/plain": [
       "            id                                               text\n",
       "0        Tam_1  வீர செங்குந்தர் சார்பாக இந்த திரைப்படம் வெற்றி...\n",
       "1        Tam_2  Teruk ah irukku .... mokke movie .. waste of time\n",
       "2        Tam_3  manitha samuthaayam amaipil irunthu intha pada...\n",
       "3        Tam_4                                   JJ mam we miss u\n",
       "4        Tam_5          Subtitle me traller dekhne wale like karo\n",
       "...        ...                                                ...\n",
       "4397  Tam_4398  Ithukum dislike potta kammanattti koovaingalam...\n",
       "4398  Tam_4399  Suyama Sinthikiravan than super Hero Seama dia...\n",
       "4399  Tam_4400           Super thalaiva.... Nee mass dha eppavume\n",
       "4400  Tam_4401  பெண்ணை அடிமையாக்க நினைக்கும் இந்த படம் தோல்வித...\n",
       "4401  Tam_4402  Semma thalaiva alu athikama akirukum enimale e...\n",
       "\n",
       "[4402 rows x 2 columns]"
      ]
     },
     "execution_count": 38,
     "metadata": {},
     "output_type": "execute_result"
    }
   ],
   "source": [
    "data_file = \"/home/deepak/mlgym/fire/tamil_sentiment_full_test_withoutlabels.tsv\"\n",
    "test_df = pd.read_csv(data_file,sep='\\t')\n",
    "\n",
    "test_df"
   ]
  },
  {
   "cell_type": "code",
   "execution_count": 46,
   "metadata": {},
   "outputs": [],
   "source": [
    "\n",
    "\n",
    "test_inputs = test_df.text.to_list()\n",
    "\n",
    "test_embedding = np.asarray([get_embedding(text) for text in test_inputs])\n",
    "\n",
    "y_pred = classifier.predict(test_embedding)\n",
    "y_predicted = np.argmax(y_pred,axis=1)\n",
    "predicted_label = [numbers2label[y_pred] for y_pred in y_predicted]\n",
    "test_df['prediction'] = predicted_label"
   ]
  },
  {
   "cell_type": "code",
   "execution_count": 50,
   "metadata": {},
   "outputs": [
    {
     "data": {
      "text/html": [
       "<div>\n",
       "<style scoped>\n",
       "    .dataframe tbody tr th:only-of-type {\n",
       "        vertical-align: middle;\n",
       "    }\n",
       "\n",
       "    .dataframe tbody tr th {\n",
       "        vertical-align: top;\n",
       "    }\n",
       "\n",
       "    .dataframe thead th {\n",
       "        text-align: right;\n",
       "    }\n",
       "</style>\n",
       "<table border=\"1\" class=\"dataframe\">\n",
       "  <thead>\n",
       "    <tr style=\"text-align: right;\">\n",
       "      <th></th>\n",
       "      <th>id</th>\n",
       "      <th>text</th>\n",
       "      <th>prediction</th>\n",
       "    </tr>\n",
       "  </thead>\n",
       "  <tbody>\n",
       "    <tr>\n",
       "      <th>0</th>\n",
       "      <td>Tam_1</td>\n",
       "      <td>வீர செங்குந்தர் சார்பாக இந்த திரைப்படம் வெற்றி...</td>\n",
       "      <td>Positive</td>\n",
       "    </tr>\n",
       "    <tr>\n",
       "      <th>1</th>\n",
       "      <td>Tam_2</td>\n",
       "      <td>Teruk ah irukku .... mokke movie .. waste of time</td>\n",
       "      <td>Positive</td>\n",
       "    </tr>\n",
       "    <tr>\n",
       "      <th>2</th>\n",
       "      <td>Tam_3</td>\n",
       "      <td>manitha samuthaayam amaipil irunthu intha pada...</td>\n",
       "      <td>Positive</td>\n",
       "    </tr>\n",
       "    <tr>\n",
       "      <th>3</th>\n",
       "      <td>Tam_4</td>\n",
       "      <td>JJ mam we miss u</td>\n",
       "      <td>Positive</td>\n",
       "    </tr>\n",
       "    <tr>\n",
       "      <th>4</th>\n",
       "      <td>Tam_5</td>\n",
       "      <td>Subtitle me traller dekhne wale like karo</td>\n",
       "      <td>not-tamil</td>\n",
       "    </tr>\n",
       "    <tr>\n",
       "      <th>...</th>\n",
       "      <td>...</td>\n",
       "      <td>...</td>\n",
       "      <td>...</td>\n",
       "    </tr>\n",
       "    <tr>\n",
       "      <th>4397</th>\n",
       "      <td>Tam_4398</td>\n",
       "      <td>Ithukum dislike potta kammanattti koovaingalam...</td>\n",
       "      <td>Negative</td>\n",
       "    </tr>\n",
       "    <tr>\n",
       "      <th>4398</th>\n",
       "      <td>Tam_4399</td>\n",
       "      <td>Suyama Sinthikiravan than super Hero Seama dia...</td>\n",
       "      <td>Positive</td>\n",
       "    </tr>\n",
       "    <tr>\n",
       "      <th>4399</th>\n",
       "      <td>Tam_4400</td>\n",
       "      <td>Super thalaiva.... Nee mass dha eppavume</td>\n",
       "      <td>Positive</td>\n",
       "    </tr>\n",
       "    <tr>\n",
       "      <th>4400</th>\n",
       "      <td>Tam_4401</td>\n",
       "      <td>பெண்ணை அடிமையாக்க நினைக்கும் இந்த படம் தோல்வித...</td>\n",
       "      <td>Positive</td>\n",
       "    </tr>\n",
       "    <tr>\n",
       "      <th>4401</th>\n",
       "      <td>Tam_4402</td>\n",
       "      <td>Semma thalaiva alu athikama akirukum enimale e...</td>\n",
       "      <td>Positive</td>\n",
       "    </tr>\n",
       "  </tbody>\n",
       "</table>\n",
       "<p>4402 rows × 3 columns</p>\n",
       "</div>"
      ],
      "text/plain": [
       "            id                                               text prediction\n",
       "0        Tam_1  வீர செங்குந்தர் சார்பாக இந்த திரைப்படம் வெற்றி...   Positive\n",
       "1        Tam_2  Teruk ah irukku .... mokke movie .. waste of time   Positive\n",
       "2        Tam_3  manitha samuthaayam amaipil irunthu intha pada...   Positive\n",
       "3        Tam_4                                   JJ mam we miss u   Positive\n",
       "4        Tam_5          Subtitle me traller dekhne wale like karo  not-tamil\n",
       "...        ...                                                ...        ...\n",
       "4397  Tam_4398  Ithukum dislike potta kammanattti koovaingalam...   Negative\n",
       "4398  Tam_4399  Suyama Sinthikiravan than super Hero Seama dia...   Positive\n",
       "4399  Tam_4400           Super thalaiva.... Nee mass dha eppavume   Positive\n",
       "4400  Tam_4401  பெண்ணை அடிமையாக்க நினைக்கும் இந்த படம் தோல்வித...   Positive\n",
       "4401  Tam_4402  Semma thalaiva alu athikama akirukum enimale e...   Positive\n",
       "\n",
       "[4402 rows x 3 columns]"
      ]
     },
     "execution_count": 50,
     "metadata": {},
     "output_type": "execute_result"
    }
   ],
   "source": [
    "test_df"
   ]
  },
  {
   "cell_type": "code",
   "execution_count": null,
   "metadata": {},
   "outputs": [],
   "source": []
  }
 ],
 "metadata": {
  "kernelspec": {
   "display_name": "Python 3",
   "language": "python",
   "name": "python3"
  },
  "language_info": {
   "codemirror_mode": {
    "name": "ipython",
    "version": 3
   },
   "file_extension": ".py",
   "mimetype": "text/x-python",
   "name": "python",
   "nbconvert_exporter": "python",
   "pygments_lexer": "ipython3",
   "version": "3.7.4"
  }
 },
 "nbformat": 4,
 "nbformat_minor": 4
}
